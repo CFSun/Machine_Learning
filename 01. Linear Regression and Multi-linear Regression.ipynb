{
 "cells": [
  {
   "cell_type": "markdown",
   "metadata": {},
   "source": [
    "# This notebook covers:\n",
    "\n",
    "## 1. Linear Regression\n",
    "    1.A: using formula\n",
    "    2.B: using gradient descent\n",
    "    \n",
    "## 2. Multi-linear Regression\n",
    "    using sk-learn library\n",
    "----\n",
    "\n",
    "Linear Regression is a linear approach for modeling the relationship between a scalar dependent variable y and one or more explanatory variables (or independent variables) denoted $x_{1}, x_{2} ... x_{n}$. The case of one explanatory variable is called simple linear regression. The graph below shows that the line is the linear relation between y and x. \n",
    "\n",
    "<img src=\"./images/linear.png\" width=\"300\" height=\"300\" />\n",
    " \n",
    "\t\n",
    "    \n",
    "    \n",
    "Now the question is how we find this line and how we judge this line. In fact, wee are looking for a linear relation between x and y with slope w and intercept b:  \n",
    "    \n",
    "$$ y = b + wx $$\n",
    "    \n",
    "Where w and b can be found by using the given data x and y. Using this linear equation we can predict future data.\n",
    "    \n",
    "Now we are going to use three different ways to find the w and b:\n",
    "    \n",
    "        1. formula \n",
    "\n",
    "        2. gradient descent \n",
    "\n",
    "        3. sk-learn \n"
   ]
  },
  {
   "cell_type": "markdown",
   "metadata": {},
   "source": [
    "###  First we need some data points"
   ]
  },
  {
   "cell_type": "code",
   "execution_count": 1,
   "metadata": {},
   "outputs": [
    {
     "data": {
      "image/png": "[encoded data removed]",
      "text/plain": [
       "<Figure size 432x432 with 1 Axes>"
      ]
     },
     "metadata": {},
     "output_type": "display_data"
    }
   ],
   "source": [
    "import numpy as np \n",
    "import matplotlib.pyplot as plt \n",
    "%matplotlib inline\n",
    "\n",
    "# observations \n",
    "x = np.array([0, 1, 2, 3, 4, 5, 6, 7, 8, 9]) \n",
    "y = np.array([1, 3, 2, 5, 7, 8, 8, 9, 10, 12]) \n",
    "n = x.size\n",
    "\n",
    "# PLOTING data and regression line \n",
    "plt.figure(figsize=(6,6))\n",
    "plt.scatter(x, y, color = \"r\") \n",
    "\n",
    "# putting labels \n",
    "plt.xlabel('x') \n",
    "plt.ylabel('y') \n",
    "\n",
    "# function to show plot \n",
    "plt.show() "
   ]
  },
  {
   "cell_type": "markdown",
   "metadata": {},
   "source": [
    "## 1. Using formula\n",
    "\n",
    "### Formula (2) is the linear question,\n",
    "$$     y = b + wx $$\n",
    "  \n",
    "where the b is also called bias and the w is called weight. \n",
    "\n",
    "### linear regressio formula:\n",
    "* mean: \n",
    "$$\\bar{x} = \\frac{\\sum x_i}{n}, \\ \\ \\  \\     \\bar{y} = \\frac{\\sum y_{i}}{n}, $$\n",
    "  \n",
    "* correlation:\n",
    "$$r = \\frac{S_{xy}}{S_{xx} S_{yy}}$$\n",
    "  \n",
    "    where\n",
    "$$var(x) \\ \\ \\ \\  S_{xx} = \\frac{\\sum(x_i-\\bar{x})^2}{n} = \\frac{\\sum x_i^2}{n} -\\bar x$$\n",
    "$$var(y) \\ \\ \\ \\  S_{yy} = \\frac{\\sum(y_i-\\bar{y})^2}{n} = \\frac{\\sum y_i^2}{n} -\\bar y$$\n",
    "$$cov(x, y) \\ \\ \\ S_{xy} = \\frac{\\sum(x_i-\\bar{x})(\\sum(y_i-\\bar y)}{n} = \\frac{\\sum x_i y_i}{n} - \\bar x\\bar y $$  \n",
    "\n",
    "* The linear trend line is:  \n",
    "  \n",
    "$$y = b + wx$$\n",
    "   \n",
    "    Where\n",
    "$$w = \\frac{ S_{xy}}{S_{xx} }\\ \\, $$  \n",
    "$$b = \\bar y - w\\bar x $$  \n"
   ]
  },
  {
   "cell_type": "code",
   "execution_count": 2,
   "metadata": {},
   "outputs": [
    {
     "name": "stdout",
     "output_type": "stream",
     "text": [
      "Estimated coefficients:\n",
      " A = -0.06 B = 1.46\n",
      "RMS: 1.12\n"
     ]
    }
   ],
   "source": [
    "# use numpy array to find the A and B\n",
    "\n",
    "# mean of x and y vector \n",
    "m_x, m_y = np.mean(x), np.mean(y) \n",
    "\n",
    "# calculating cross-deviation and deviation about x \n",
    "S_xy = np.sum(y*x - n*m_y*m_x) \n",
    "S_xx = np.sum(x*x - n*m_x*m_x) \n",
    "\n",
    "# calculating regression coefficients \n",
    "w = S_xy / S_xx \n",
    "b = m_y - w*m_x \n",
    "\n",
    "print(\"Estimated coefficients:\\n A = {0:0.2f} B = {1:0.2f}\".format(b, w)  ) \n",
    "\n",
    "# predict y based on the linear equation\n",
    "y_pred = b + x*w \n",
    "\n",
    "# root mean squared error\n",
    "print(\"RMS: %4.2f\" % np.sqrt(np.mean((y - y_pred) ** 2)))\n",
    "\n"
   ]
  },
  {
   "cell_type": "code",
   "execution_count": 3,
   "metadata": {},
   "outputs": [
    {
     "data": {
      "image/png": "[encoded data removed]",
      "text/plain": [
       "<Figure size 360x360 with 1 Axes>"
      ]
     },
     "metadata": {},
     "output_type": "display_data"
    }
   ],
   "source": [
    "# PLOTING data and regression line \n",
    "plt.figure(figsize=(5,5))\n",
    "plt.scatter(x, y, color = \"r\") \n",
    "plt.plot(x, y_pred, color = \"b\") \n",
    "\n",
    "# putting labels \n",
    "plt.xlabel('x') \n",
    "plt.ylabel('y') \n",
    "\n",
    "# function to show plot \n",
    "plt.show() "
   ]
  },
  {
   "cell_type": "markdown",
   "metadata": {},
   "source": [
    "## 2. Use Gradient Descent Method  \n",
    "---\n",
    "\n",
    "Objective Function:  \n",
    "  * Sum squared error: \n",
    "$$SSE=\\sum_{i=1}^{n}(y_{i} - \\bar y)^{2}$$  \n",
    "  \n",
    "  * Mean squared error: \n",
    "$$MSE=\\frac {SSE} {(n-1)}$$   \n",
    "\n",
    "Where error is: $y_i - \\bar y$\n",
    "\n",
    "<img src= './images/error-linear.png' width=200 height=60 />\n",
    "    \n",
    "    \n",
    "We want the SSE as small as possible. This is an optimization problem. The method we use here is gradient descent to minimize SSE. Here we use the optimizer from TensorFlow. We will keep the error for each iteration, then plot it."
   ]
  },
  {
   "cell_type": "code",
   "execution_count": 4,
   "metadata": {},
   "outputs": [
    {
     "name": "stdout",
     "output_type": "stream",
     "text": [
      "Fianl: W: [0.91427594] b: [-0.7479608] loss: 0.042436995\n"
     ]
    },
    {
     "data": {
      "image/png": "[encoded data removed]",
      "text/plain": [
       "<Figure size 360x360 with 1 Axes>"
      ]
     },
     "metadata": {},
     "output_type": "display_data"
    }
   ],
   "source": [
    "# linear regression: complete code\n",
    "\n",
    "# TensorFlow provides optimizers that slowly change w and b in order to minimize the loss function. \n",
    "# The simplest optimizer is gradient descent\n",
    "import tensorflow as tf\n",
    "W = tf.Variable([.3], dtype=tf.float32)\n",
    "b = tf.Variable([-.3], dtype=tf.float32)\n",
    "\n",
    "# Model input and output\n",
    "x = tf.placeholder(tf.float32)\n",
    "linear_model = W*x + b\n",
    "y = tf.placeholder(tf.float32)\n",
    "\n",
    "# loss\n",
    "loss = tf.reduce_sum(tf.square(linear_model - y)) # sum of the squares error\n",
    "\n",
    "# optimizer\n",
    "optimizer = tf.train.GradientDescentOptimizer(0.01) \n",
    "# steplength or rate = 0.01, you can change it\n",
    "\n",
    "# plug in the loss function to the optimizer\n",
    "train = optimizer.minimize(loss)\n",
    "\n",
    "# training data\n",
    "x_train = [1, 2, 3, 4]\n",
    "y_train = [0, 1, 2, 3]\n",
    "\n",
    "# training loop\n",
    "init = tf.global_variables_initializer()\n",
    "\n",
    "sess = tf.Session()\n",
    "sess.run(init) # reset values to wrong\n",
    "\n",
    "error=[]\n",
    "for i in range(100):    # total iteration or loop, you can change it to dif. number\n",
    "    _, _, _, loss_value = sess.run((W, b,train, loss), {x: x_train, y: y_train})\n",
    "    error.append(loss_value)\n",
    "\n",
    "# evaluate training accuracy\n",
    "curr_W, curr_b, curr_loss = sess.run([W, b, loss], {x: x_train, y: y_train})\n",
    "print(\"Fianl: W: %s b: %s loss: %s\" %(curr_W, curr_b, curr_loss))\n",
    "\n",
    "import matplotlib.pyplot as plt\n",
    "plt.figure(figsize=(5,5))\n",
    "plt.title(\"Linear Regression\")\n",
    "plt.xlabel(' x')\n",
    "plt.ylabel(' y/y_pred')\n",
    "\n",
    "plt.scatter( x_train,  y_train, color='b', label=\"test\")\n",
    "y_pred = curr_W*x_train + curr_b\n",
    "plt.plot(x_train,  y_pred, color='r', label=\"predicted\")\n",
    "\n",
    "plt.legend()\n",
    "plt.show()"
   ]
  },
  {
   "cell_type": "code",
   "execution_count": 5,
   "metadata": {},
   "outputs": [
    {
     "data": {
      "text/plain": [
       "Text(0.5,1,'loss vs epoch')"
      ]
     },
     "execution_count": 5,
     "metadata": {},
     "output_type": "execute_result"
    },
    {
     "data": {
      "image/png": "[encoded data removed]",
      "text/plain": [
       "<Figure size 360x360 with 1 Axes>"
      ]
     },
     "metadata": {},
     "output_type": "display_data"
    }
   ],
   "source": [
    "# plt.title('Convergency along the epoch')\n",
    "plt.figure(figsize=(5, 5))\n",
    "plt.plot(error)\n",
    "plt.xlabel('epoch')\n",
    "plt.ylabel('loss')\n",
    "plt.title(\"loss vs epoch\")"
   ]
  },
  {
   "cell_type": "markdown",
   "metadata": {},
   "source": [
    "### We can see the gradient descent method gradually reduce the loss. At some point, loss tends to flat. Then we can stop. \n",
    "  \n",
    "  ---\n",
    "  ---\n",
    "  \n"
   ]
  },
  {
   "cell_type": "markdown",
   "metadata": {},
   "source": [
    "## 2. Multiple linear regression\n",
    "----\n",
    "For more than one independant variables $(x_{1}, x_{2}, x_{3}, … .. x_{n}) $ and only one dependent variable y, this is called multiple linear regression(MLR). \n",
    "     \n",
    "$$y  = w_{1}x_{1} + w_{2}x_{2} + ... + w_{n}x_{n}  + b $$\n",
    "\n",
    "or \n",
    "$$y = WX + b $$\n",
    "  \n",
    "where W is the weight vector, i.e. each independent varaible xi contributes its weight to the dependent variable y. Bias b is the intercept.\n",
    "\n",
    "   \n",
    "\n",
    "We wil use Sk-learn with boston house price dataset to demonstrate this multi-linear problem.\n",
    "\n",
    "<img src ='./images/multiple-linear.jpg' width = '400' height='300' /> "
   ]
  },
  {
   "cell_type": "code",
   "execution_count": 6,
   "metadata": {},
   "outputs": [
    {
     "name": "stdout",
     "output_type": "stream",
     "text": [
      "first row of X:\n",
      " [1.1425e-01 0.0000e+00 1.3890e+01 1.0000e+00 5.5000e-01 6.3730e+00\n",
      " 9.2400e+01 3.3633e+00 5.0000e+00 2.7600e+02 1.6400e+01 3.9374e+02\n",
      " 1.0500e+01]\n",
      "\n",
      "first row of y: 23.0\n"
     ]
    }
   ],
   "source": [
    "from sklearn.datasets import load_boston\n",
    "from sklearn.model_selection import train_test_split\n",
    "import matplotlib.pyplot as plt \n",
    "%matplotlib inline\n",
    "\n",
    "# loading data and split to train/test\n",
    "data = load_boston()\n",
    "X_train, X_test, y_train, y_test = train_test_split(data.data, data.target)\n",
    "print(\"first row of X:\\n\", X_train[0, :])\n",
    "print(\"\\nfirst row of y:\", y_train[0])"
   ]
  },
  {
   "cell_type": "code",
   "execution_count": 7,
   "metadata": {
    "scrolled": true
   },
   "outputs": [
    {
     "name": "stdout",
     "output_type": "stream",
     "text": [
      "RMS: 5.104554711755111 \n"
     ]
    },
    {
     "data": {
      "text/plain": [
       "Text(0.5,1,'linear regression vs test data')"
      ]
     },
     "execution_count": 7,
     "metadata": {},
     "output_type": "execute_result"
    },
    {
     "data": {
      "image/png": "[encoded data removed]",
      "text/plain": [
       "<Figure size 360x360 with 1 Axes>"
      ]
     },
     "metadata": {},
     "output_type": "display_data"
    }
   ],
   "source": [
    "# use sklearn model\n",
    "from sklearn.linear_model import LinearRegression\n",
    "model = LinearRegression()\n",
    "model.fit(X_train, y_train)\n",
    "\n",
    "# prediction\n",
    "y_pred= model.predict(X_test)\n",
    "\n",
    "# accuracy\n",
    "import numpy as np\n",
    "print(\"RMS: %r \" % np.sqrt(np.mean((y_pred - y_test) ** 2)))\n",
    "\n",
    "# plotting\n",
    "plt.figure(figsize=(5, 5))\n",
    "plt.scatter(y_pred, y_test, label=\"test\")\n",
    "plt.plot([0, 50], [0, 50], '--k', c='r', label='linear line')\n",
    "plt.axis('tight')\n",
    "plt.xlabel('True price ($1000s)')\n",
    "plt.ylabel('Predicted price ($1000s)')\n",
    "plt.tight_layout()\n",
    "plt.legend()\n",
    "plt.title(\"linear regression vs test data\")"
   ]
  },
  {
   "cell_type": "markdown",
   "metadata": {},
   "source": [
    "----\n",
    "# Summary\n",
    "---\n",
    "In this short notebook, we did linear regression using formula and gradient descent method. \n",
    "      \n",
    "For multi-linear regression we used sk-learn. As sk-learn provides many regression tools, we will use it for later notebooks.\n",
    "      \n",
    "Linear or multi-linear regression needs the residual has $N(\\mu, \\sigma^2)$ distribution, where $\\mu=\\bar y $ and $\\sigma$ needs to constant. In reality, problems might not fit this category. In this case, we will need more complicated models. For example exponentail distribution family, we can try: \n",
    "      - Logisit regression\n",
    "      - Generalized Linear Regression\n",
    "      \n",
    "There are many more regression models used in different cases, such as:\n",
    "      - Neural Network\n",
    "      - Kernel\n",
    "      - K nearest neighbors regression\n",
    "      - Softmax regression\n",
    "      - more \n",
    "      \n",
    "In order to overcome the overfitting problem, regularization is often used in regression:\n",
    "      - LASSO: L1, Least Absolute Shrinkage and Selection Operator. \n",
    "      - Ridge: L2  regularization\n",
    "      - Elastic Net: L1 and L2 combination \n",
    "      "
   ]
  },
  {
   "cell_type": "markdown",
   "metadata": {},
   "source": [
    "### END of this notebook"
   ]
  }
 ],
 "metadata": {
  "kernelspec": {
   "display_name": "Python 3",
   "language": "python",
   "name": "python3"
  },
  "language_info": {
   "codemirror_mode": {
    "name": "ipython",
    "version": 3
   },
   "file_extension": ".py",
   "mimetype": "text/x-python",
   "name": "python",
   "nbconvert_exporter": "python",
   "pygments_lexer": "ipython3",
   "version": "3.6.5"
  }
 },
 "nbformat": 4,
 "nbformat_minor": 2
}
