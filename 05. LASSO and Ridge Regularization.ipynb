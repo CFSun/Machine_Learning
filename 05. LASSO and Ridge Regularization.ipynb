{
 "cells": [
  {
   "cell_type": "markdown",
   "metadata": {},
   "source": [
    "#  LASSO and Ridge \n",
    "---\n",
    "**for problems with many features**  \n",
    "**for continuous response variable**  \n",
    "**for binary response variable**\n",
    "\n",
    "---\n",
    "**Background**\n",
    "\n",
    "In linear regression, the cost function we want to minimize is the error our hypothesis will have: \n",
    "\n",
    "$$ \n",
    "error = \\sum_ 1 ^n(b + wx - y_i)^2  \n",
    "$$\n",
    "Oftentimes, we have overfitting problem. For example, in polynomial regression, optimization tends to favor to the high order terms in order to match the training data, the linear term or the low order terms is close to zero.\n",
    "\t\t\t\t\t\n",
    "                    \n",
    "<img src=\"images/overfitting.PNG\"  />                   \n",
    "                   \n",
    "For data has many features, we have **the Curse of Dimensionality** problem. In other words, as the number of features increases, the number of data points (or “training examples”) required to train the algorithm increases exponentially. For many features, weights increase exponentially too. \n",
    "\n",
    "**We now use Regularization to alleviate these problems**\n",
    "\t\n",
    "\t\n",
    "   (1). L1 Regularization or LASSO (Least Absolute Shrinkage and Selection Operator) adds “absolute value of magnitude” of coefficient as penalty term to the loss function. The penality term is:\n",
    "$$\n",
    " p(w) = \\alpha\\sum_{i=1}^d |w_i| \n",
    "$$\n",
    "  \n",
    "   It shrinks the less important feature’s coefficient to zero. Thus, we can remove some features. \n",
    "\n",
    "   (2). L2 Regularization or Ridge: adds “squared magnitude” of coefficient as penalty term to the loss function.\n",
    "\n",
    "$$\n",
    " p(w) = \\beta\\sum_{i=1}^d |w_i|^2 \n",
    "$$\n",
    "  \n",
    "    \n",
    "It is good for reducing the overfitting, shrink less important coefficients, reduce the overfitting\n",
    "\t\n",
    "\t\t\t\t\n",
    "   (3). Elastic Net Regularization: A combination of L1 and L2:\n",
    "    \n",
    "$$\n",
    " p(w) = \\alpha\\sum_{i=1}^d |w_i| + \\beta\\sum_{i=1}^d |w_i|^2 \n",
    "$$\n",
    "     \n",
    "\n"
   ]
  },
  {
   "cell_type": "markdown",
   "metadata": {},
   "source": [
    "## Comparison of coeficients\n",
    "\n",
    "   * data: breast cancer dataset\n",
    "   * algorithms:  \n",
    "     1) Base: Logistic regression  \n",
    "     2) with LASSO or L1 Regularization  \n",
    "     3) with Ridge or L2 Regularization  \n",
    "     \n",
    "Finally, we will compare the coeficients of three algorithms"
   ]
  },
  {
   "cell_type": "markdown",
   "metadata": {},
   "source": [
    "# Base Algorithm: Logistic Regression (OLS)"
   ]
  },
  {
   "cell_type": "code",
   "execution_count": 1,
   "metadata": {},
   "outputs": [
    {
     "name": "stdout",
     "output_type": "stream",
     "text": [
      "(569, 30)\n",
      "(569,)\n"
     ]
    }
   ],
   "source": [
    "from sklearn.datasets import load_breast_cancer\n",
    "from sklearn.model_selection import train_test_split\n",
    "import pandas as pd\n",
    "from sklearn.linear_model import LogisticRegression\n",
    "from sklearn.metrics import accuracy_score, confusion_matrix\n",
    "\n",
    "cancer = load_breast_cancer()\n",
    "print(cancer.data.shape)\n",
    "print(cancer.target.shape)"
   ]
  },
  {
   "cell_type": "code",
   "execution_count": 2,
   "metadata": {},
   "outputs": [
    {
     "name": "stdout",
     "output_type": "stream",
     "text": [
      "\n",
      "Training Accuracy score : 0.953\n",
      "\n",
      "Testing Accuracy score : 0.937\n",
      "[[46  2]\n",
      " [ 7 88]]\n"
     ]
    },
    {
     "data": {
      "text/plain": [
       "array([[ 1.94483644e+00,  2.65753588e-01,  1.28527732e-02,\n",
       "        -4.81686519e-03, -1.01663318e-01, -3.60740144e-01,\n",
       "        -5.84100408e-01, -2.96983074e-01, -9.71869468e-02,\n",
       "        -2.59839570e-02, -3.94958246e-02,  1.20926263e+00,\n",
       "         6.32985114e-01, -1.65695342e-01, -1.25500544e-02,\n",
       "        -2.29993674e-02, -5.40770225e-02, -3.70513948e-02,\n",
       "        -3.34718624e-02, -1.48419430e-03,  9.54886316e-01,\n",
       "        -4.77134830e-01, -1.13260519e-01, -2.31933418e-02,\n",
       "        -2.10312042e-01, -1.04873829e+00, -1.41143691e+00,\n",
       "        -5.81155815e-01, -4.53209235e-01, -1.13890396e-01]])"
      ]
     },
     "execution_count": 2,
     "metadata": {},
     "output_type": "execute_result"
    }
   ],
   "source": [
    "# machine learning using logistic regression\n",
    "X_train, X_test, y_train, y_test = train_test_split(cancer.data, cancer.target, random_state= 500)\n",
    "                                                    \n",
    "model_OLS = LogisticRegression().fit(X_train, y_train)\n",
    "y_pred = model_OLS.predict(X_test) \n",
    "\n",
    "# check  overfitting\n",
    "y_model = model_OLS.predict(X_train)\n",
    "print(\"\\nTraining Accuracy score : %.3f\" %(accuracy_score(y_train, y_model)))\n",
    "print(\"\\nTesting Accuracy score : %.3f\" %(accuracy_score(y_test, y_pred)))\n",
    "\n",
    "# print confusion matrix\n",
    "print(confusion_matrix(y_test, y_pred)) \n",
    "model_OLS.coef_"
   ]
  },
  {
   "cell_type": "code",
   "execution_count": 3,
   "metadata": {},
   "outputs": [
    {
     "data": {
      "text/plain": [
       "<function matplotlib.pyplot.show(*args, **kw)>"
      ]
     },
     "execution_count": 3,
     "metadata": {},
     "output_type": "execute_result"
    },
    {
     "data": {
      "image/png": "[encoded data removed]",
      "text/plain": [
       "<Figure size 576x432 with 1 Axes>"
      ]
     },
     "metadata": {},
     "output_type": "display_data"
    }
   ],
   "source": [
    "# display coef\n",
    "%matplotlib inline\n",
    "import matplotlib.pyplot as plt\n",
    "features = range(30)\n",
    "\n",
    "plt.figure(figsize = (8, 6))\n",
    "plt.bar(features, model_OLS.coef_[0], label = \"OLS\" )\n",
    "plt.legend()\n",
    "plt.show\n"
   ]
  },
  {
   "cell_type": "markdown",
   "metadata": {},
   "source": [
    "# LASSO Regression: L1"
   ]
  },
  {
   "cell_type": "code",
   "execution_count": 4,
   "metadata": {},
   "outputs": [
    {
     "name": "stdout",
     "output_type": "stream",
     "text": [
      "\n",
      "Training Accuracy score : 0.962\n",
      "\n",
      "Testing Accuracy score : 0.944\n",
      "[[47  1]\n",
      " [ 7 88]]\n"
     ]
    },
    {
     "data": {
      "text/plain": [
       "array([[ 4.39295757,  0.24032655, -0.27075551, -0.01212577,  0.        ,\n",
       "         0.        ,  0.        ,  0.        ,  0.        ,  0.        ,\n",
       "         0.        ,  1.42651177,  0.26028944, -0.14219828,  0.        ,\n",
       "         0.        ,  0.        ,  0.        ,  0.        ,  0.        ,\n",
       "         0.        , -0.49205632, -0.02199005, -0.01990004,  0.        ,\n",
       "         0.        , -2.86475211,  0.        ,  0.        ,  0.        ]])"
      ]
     },
     "execution_count": 4,
     "metadata": {},
     "output_type": "execute_result"
    }
   ],
   "source": [
    "from sklearn.linear_model import LogisticRegression\n",
    "model_L1 = LogisticRegression(penalty='l1', solver='liblinear')\n",
    "\n",
    "model_L1.fit(X_train, y_train)\n",
    "y_pred_L1 = model_L1.predict(X_test) \n",
    "\n",
    "\n",
    "# check  overfitting\n",
    "y_model = model_L1.predict(X_train)\n",
    "print(\"\\nTraining Accuracy score : %.3f\" %(accuracy_score(y_train, y_model)))\n",
    "print(\"\\nTesting Accuracy score : %.3f\" %(accuracy_score(y_test, y_pred_L1) ) )\n",
    "\n",
    "# print confustion matrix\n",
    "print(confusion_matrix(y_test, y_pred_L1)) \n",
    "model_L1.coef_\n"
   ]
  },
  {
   "cell_type": "code",
   "execution_count": 5,
   "metadata": {},
   "outputs": [
    {
     "data": {
      "image/png": "[encoded data removed]",
      "text/plain": [
       "<Figure size 720x576 with 1 Axes>"
      ]
     },
     "metadata": {},
     "output_type": "display_data"
    }
   ],
   "source": [
    "# L1\n",
    "plt.figure(figsize = (10, 8))\n",
    "plt.bar(features, model_L1.coef_[0], label = ' L1')\n",
    "plt.legend()\n",
    "plt.show()\n"
   ]
  },
  {
   "cell_type": "markdown",
   "metadata": {},
   "source": [
    "# Ridge Regression: L2"
   ]
  },
  {
   "cell_type": "code",
   "execution_count": 6,
   "metadata": {},
   "outputs": [
    {
     "name": "stdout",
     "output_type": "stream",
     "text": [
      "\n",
      "Training Accuracy score : 0.951\n",
      "\n",
      "Testing Accuracy score : 0.979\n",
      "[[47  1]\n",
      " [ 2 93]]\n"
     ]
    },
    {
     "data": {
      "text/plain": [
       "array([[ 0.54678396,  0.00625164, -0.02851854, -0.00279918, -0.21447309,\n",
       "         0.10836669, -0.34060008, -0.43496759, -0.14764019,  0.0029619 ,\n",
       "        -0.68454983, -0.0257339 ,  0.03867114,  0.00128181, -0.08147346,\n",
       "         0.18332269,  0.42170864, -0.04697208, -0.06945746,  0.01645684,\n",
       "        -0.59413838, -0.02756122,  0.01298859,  0.00301788, -0.53430273,\n",
       "        -0.16885153, -0.59328917, -0.71596012, -0.49535413, -0.11067246]])"
      ]
     },
     "execution_count": 6,
     "metadata": {},
     "output_type": "execute_result"
    }
   ],
   "source": [
    "# for Ridge regression\n",
    "from sklearn.linear_model import RidgeClassifier \n",
    "model_L2 = RidgeClassifier().fit(X_train, y_train)\n",
    "y_pred_L2 = model_L2.predict(X_test) \n",
    "\n",
    "# check  overfitting\n",
    "y_model = model_L2.predict(X_train)\n",
    "print(\"\\nTraining Accuracy score : %.3f\" %(accuracy_score(y_train, y_model)))\n",
    "print(\"\\nTesting Accuracy score : %.3f\" %(accuracy_score(y_test, y_pred_L2)))\n",
    "\n",
    "# confusion matrix\n",
    "print(confusion_matrix(y_test, y_pred_L2)) \n",
    "model_L2.coef_"
   ]
  },
  {
   "cell_type": "code",
   "execution_count": 7,
   "metadata": {},
   "outputs": [
    {
     "data": {
      "image/png": "[encoded data removed]",
      "text/plain": [
       "<Figure size 720x576 with 1 Axes>"
      ]
     },
     "metadata": {},
     "output_type": "display_data"
    }
   ],
   "source": [
    "# L2\n",
    "plt.figure(figsize = (10, 8))\n",
    "plt.bar(features, model_L2.coef_[0], label = ' L2')\n",
    "plt.legend()\n",
    "plt.show()"
   ]
  },
  {
   "cell_type": "markdown",
   "metadata": {},
   "source": [
    "## COMPARISON: OLS, L1 and L2\n",
    "---\n",
    "\n",
    "OLS: every feature contributes to the linear equation, more or less.  \n",
    "L1:  shrink the feature size by reducing the unimportant features to zero. At same time,  important feature weighs more.   \n",
    "L2:  reduce all features magtitudes, less overfitting.   "
   ]
  },
  {
   "cell_type": "code",
   "execution_count": 8,
   "metadata": {},
   "outputs": [
    {
     "name": "stdout",
     "output_type": "stream",
     "text": [
      "          OLS        L1     L2\n",
      "i=  0   1.9448   4.3930   0.5468\n",
      "i=  1   0.2658   0.2403   0.0063\n",
      "i=  2   0.0129  -0.2708  -0.0285\n",
      "i=  3  -0.0048  -0.0121  -0.0028\n",
      "i=  4  -0.1017   0.0000  -0.2145\n",
      "i=  5  -0.3607   0.0000   0.1084\n",
      "i=  6  -0.5841   0.0000  -0.3406\n",
      "i=  7  -0.2970   0.0000  -0.4350\n",
      "i=  8  -0.0972   0.0000  -0.1476\n",
      "i=  9  -0.0260   0.0000   0.0030\n",
      "i= 10  -0.0395   0.0000  -0.6845\n",
      "i= 11   1.2093   1.4265  -0.0257\n",
      "i= 12   0.6330   0.2603   0.0387\n",
      "i= 13  -0.1657  -0.1422   0.0013\n",
      "i= 14  -0.0126   0.0000  -0.0815\n",
      "i= 15  -0.0230   0.0000   0.1833\n",
      "i= 16  -0.0541   0.0000   0.4217\n",
      "i= 17  -0.0371   0.0000  -0.0470\n",
      "i= 18  -0.0335   0.0000  -0.0695\n",
      "i= 19  -0.0015   0.0000   0.0165\n",
      "i= 20   0.9549   0.0000  -0.5941\n",
      "i= 21  -0.4771  -0.4921  -0.0276\n",
      "i= 22  -0.1133  -0.0220   0.0130\n",
      "i= 23  -0.0232  -0.0199   0.0030\n",
      "i= 24  -0.2103   0.0000  -0.5343\n",
      "i= 25  -1.0487   0.0000  -0.1689\n",
      "i= 26  -1.4114  -2.8648  -0.5933\n",
      "i= 27  -0.5812   0.0000  -0.7160\n",
      "i= 28  -0.4532   0.0000  -0.4954\n",
      "i= 29  -0.1139   0.0000  -0.1107\n"
     ]
    }
   ],
   "source": [
    "print( \"          OLS        L1     L2\")\n",
    "for i in range(len(model_OLS.coef_[0] ) ):\n",
    "    print('i= {:2d} {:8.4f} {:8.4f} {:8.4f}'.format(i, model_OLS.coef_[0][i], model_L1.coef_[0][i], model_L2.coef_[0][i]) )"
   ]
  },
  {
   "cell_type": "code",
   "execution_count": 9,
   "metadata": {},
   "outputs": [
    {
     "data": {
      "text/plain": [
       "<function matplotlib.pyplot.show(*args, **kw)>"
      ]
     },
     "execution_count": 9,
     "metadata": {},
     "output_type": "execute_result"
    },
    {
     "data": {
      "image/png": "[encoded data removed]",
      "text/plain": [
       "<Figure size 720x576 with 1 Axes>"
      ]
     },
     "metadata": {},
     "output_type": "display_data"
    }
   ],
   "source": [
    "# comparison\n",
    "plt.figure(figsize = (10, 8))\n",
    "plt.bar(features, model_OLS.coef_[0], label = \"OLS\" )\n",
    "plt.bar(features,  model_L1.coef_[0], label = ' L1')\n",
    "plt.bar(features,  model_L2.coef_[0], label = ' L2')\n",
    "\n",
    "plt.legend()\n",
    "plt.show"
   ]
  },
  {
   "cell_type": "markdown",
   "metadata": {},
   "source": [
    "We can see:\n",
    "\n",
    "Using regulariztion, the models we got have high accuracy. The L2 model performs even better than L1 in this case. Regarding the feature selection, L1 reduces the feature number from 31 to 8. For overfitting, we still can see it in OSL and L1 model, but not L2 model. \n",
    "\n",
    "- OLS: every feature contributes to the linear equation, more or less.  \n",
    "  \n",
    "- with L1:  shrink the feature size by reducing the unimportant features to zero. At same time, important feature weighs more.  \n",
    "      \n",
    "- with L2:  reduce all features magtitudes, less overfitting even no more overfitting. \n",
    "\n",
    "# END"
   ]
  }
 ],
 "metadata": {
  "kernelspec": {
   "display_name": "Python 3",
   "language": "python",
   "name": "python3"
  },
  "language_info": {
   "codemirror_mode": {
    "name": "ipython",
    "version": 3
   },
   "file_extension": ".py",
   "mimetype": "text/x-python",
   "name": "python",
   "nbconvert_exporter": "python",
   "pygments_lexer": "ipython3",
   "version": "3.6.5"
  }
 },
 "nbformat": 4,
 "nbformat_minor": 2
}
